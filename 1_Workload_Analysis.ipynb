{
 "cells": [
  {
   "cell_type": "markdown",
   "metadata": {},
   "source": [
    "### Workload Data Collector"
   ]
  },
  {
   "cell_type": "code",
   "execution_count": null,
   "metadata": {},
   "outputs": [],
   "source": [
    "import webbrowser\n",
    "import time\n",
    "import glob, os\n",
    "import pandas as pd\n",
    "\n",
    "\n",
    "\n",
    "def download_jira_issues():\n",
    "    for x in range(0, 363240, 1000):\n",
    "        csv_url = 'https://issues.apache.org/jira/sr/jira.issueviews:searchrequest-csv-current-fields/12349407/SearchRequest-12349407.csv?jqlQuery=project+%3D+AMQ+ORDER+BY+priority+DESC%2C+updated+DESC&delimiter=,&tempMax=1000&pager/start=' + \\\n",
    "            str(x)\n",
    "        webbrowser.open(csv_url, new=1)\n",
    "        time.sleep(1)\n",
    "\n",
    "\n",
    "download_jira_issues()\n",
    "\n",
    "df = pd.concat(map(pd.read_csv, glob.glob(\n",
    "    os.path.join('/<path to the downloaded files>/', \"*.csv\"))))\n",
    "df.columns = ['Issue_Type', 'Issue_key', 'Issue_id', 'Parent_id', 'Assignee', 'Priority', 'Status',\n",
    "              'Resolution', 'Created', 'Updated', 'Time_Spent', 'Cuml_Time_Spent', 'Bug_Category']\n",
    "df[['Issue_queue', 'Issue_queue_key']\n",
    "   ] = df.Issue_key.str.split('-', expand=True)\n",
    "df.to_csv('Apache_all_issues.csv')\n"
   ]
  }
 ],
 "metadata": {
  "kernelspec": {
   "display_name": "Python 3",
   "language": "python",
   "name": "python3"
  },
  "language_info": {
   "codemirror_mode": {
    "name": "ipython",
    "version": 3
   },
   "file_extension": ".py",
   "mimetype": "text/x-python",
   "name": "python",
   "nbconvert_exporter": "python",
   "pygments_lexer": "ipython3",
   "version": "3.7.6"
  }
 },
 "nbformat": 4,
 "nbformat_minor": 4
}
